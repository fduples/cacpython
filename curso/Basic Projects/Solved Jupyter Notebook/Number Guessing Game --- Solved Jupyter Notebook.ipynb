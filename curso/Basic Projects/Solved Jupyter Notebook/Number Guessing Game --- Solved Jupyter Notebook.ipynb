{
 "cells": [
  {
   "cell_type": "markdown",
   "metadata": {},
   "source": [
    "# Number Guessing Game"
   ]
  },
  {
   "cell_type": "code",
   "execution_count": null,
   "metadata": {},
   "outputs": [],
   "source": [
    "# import random and time module\n",
    "import random\n",
    "import time\n",
    "# create a random number from range between 1-100\n",
    "n = random.randrange(1,100)\n",
    "# write a welcome message\n",
    "print(\"welcome to the NUMBER GUESSING GAME\")\n",
    "# give 2 sec. delay\n",
    "time.sleep(2)\n",
    "# take a user input to enter a number\n",
    "guess = int(input(\"Guess a number : \"))\n",
    "# use while loop and create a condition which execute while loop till the both number not become equal\n",
    "                                                          #if n is not equal to the input guess  \n",
    "while n != guess:\n",
    "    # if guess is smaller than n\n",
    "    if guess < n:\n",
    "        print(\"Too low\")\n",
    "        guess = int(input(\"Guess Again : \"))\n",
    "# if guess is greater than n\n",
    "    elif guess > n:\n",
    "        print(\"Too High\")\n",
    "        guess = int(input(\"Guess Again : \"))\n",
    "    else:\n",
    "        break\n",
    "        # if guess gets equals to n terminate the while loop\n",
    "print(\" *** You guessed it Right *** \")\n",
    "# final message"
   ]
  },
  {
   "cell_type": "code",
   "execution_count": null,
   "metadata": {},
   "outputs": [],
   "source": []
  },
  {
   "cell_type": "code",
   "execution_count": 5,
   "metadata": {},
   "outputs": [
    {
     "name": "stdout",
     "output_type": "stream",
     "text": [
      "welcome to the NUMBER GUESSING GAME\n",
      "You have only 5 attempts to Guess\n",
      "Guess a number : 50\n",
      "Too low\n",
      "You have 4 attempts left\n",
      "Guess Again : 80\n",
      "Too High\n",
      "You have 3 attempts left\n",
      "Guess Again : 70\n",
      "Too High\n",
      "You have 2 attempts left\n",
      "Guess Again : 65\n",
      "Too High\n",
      "You have 1 attempts left\n",
      "Guess Again : 60\n",
      "Bad Luck , Try again..!\n"
     ]
    }
   ],
   "source": [
    "# import random and time module\n",
    "import random\n",
    "import time\n",
    "# create a random number from range between 1-100\n",
    "n = random.randrange(1,100)\n",
    "# write a welcome message\n",
    "print(\"welcome to the NUMBER GUESSING GAME\\nYou have only 5 attempts to Guess\")\n",
    "# give 2 sec. delay\n",
    "time.sleep(2)\n",
    "# take a user input to enter a number\n",
    "guess = int(input(\"Guess a number : \"))\n",
    "# use while loop and create a condition which execute while loop till the both number not become equal\n",
    "                                                          #if n is not equal to the input guess  \n",
    "count = 1\n",
    "while n != guess and count<5:\n",
    "    # if guess is smaller than n\n",
    "    if guess < n:\n",
    "        print(\"Too low\")\n",
    "        print(\"You have {} attempts left\".format((5-count)))\n",
    "        guess = int(input(\"Guess Again : \"))\n",
    "        count+=1\n",
    "# if guess is greater than n\n",
    "    elif guess > n:\n",
    "        print(\"Too High\")\n",
    "        print(\"You have {} attempts left\".format((5-count)))\n",
    "        guess = int(input(\"Guess Again : \"))\n",
    "        count+=1\n",
    "    else:\n",
    "        break\n",
    "        # if guess gets equals to n terminate the while loop\n",
    "if n==guess:\n",
    "    print(\" *** You guessed it Right *** \")\n",
    "else:\n",
    "    print(\"Bad Luck , Try again..!\")\n",
    "# final message"
   ]
  },
  {
   "cell_type": "code",
   "execution_count": null,
   "metadata": {},
   "outputs": [],
   "source": []
  }
 ],
 "metadata": {
  "kernelspec": {
   "display_name": "Python 3",
   "language": "python",
   "name": "python3"
  },
  "language_info": {
   "codemirror_mode": {
    "name": "ipython",
    "version": 3
   },
   "file_extension": ".py",
   "mimetype": "text/x-python",
   "name": "python",
   "nbconvert_exporter": "python",
   "pygments_lexer": "ipython3",
   "version": "3.8.5"
  }
 },
 "nbformat": 4,
 "nbformat_minor": 4
}
