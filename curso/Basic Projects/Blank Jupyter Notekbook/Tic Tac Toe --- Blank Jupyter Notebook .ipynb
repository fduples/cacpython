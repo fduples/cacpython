{
 "cells": [
  {
   "cell_type": "code",
   "execution_count": 1,
   "metadata": {
    "scrolled": true
   },
   "outputs": [
    {
     "data": {
      "text/plain": [
       "' create a function to print the updated board after every move in the game and \\n    and using this function we can easily print the board everytime by calling \\n    this function. \\n    \"\"\"\\n | | \\n-+-+-\\n | | \\n-+-+-\\n | | \\n \\n7|8|9\\n-+-+-\\n4|5|6\\n-+-+-\\n1|2|3 \\n\"\"\"\\n\\n    '"
      ]
     },
     "execution_count": 1,
     "metadata": {},
     "output_type": "execute_result"
    }
   ],
   "source": [
    "# Implementation of Two Player Tic-Tac-Toe game in Python. \n",
    "\n",
    "'''\n",
    "create a Dictionary in which keys will be the location or position(i.e : top-left,mid-right,etc.)\n",
    "and initialliy it's values will be empty space and then after every move \n",
    "we will change the value according to player's choice of move. \n",
    "'''\n",
    "            \n",
    "    \n",
    "\n",
    "''' create a function to print the updated board after every move in the game and \n",
    "    and using this function we can easily print the board everytime by calling \n",
    "    this function. \n",
    "    \"\"\"\n",
    " | | \n",
    "-+-+-\n",
    " | | \n",
    "-+-+-\n",
    " | | \n",
    " \n",
    "7|8|9\n",
    "-+-+-\n",
    "4|5|6\n",
    "-+-+-\n",
    "1|2|3 \n",
    "\"\"\"\n",
    "\n",
    "    '''\n",
    "    \n",
    "# Create a function which has all the gameplay functionality.\n",
    "\n",
    "        # create \"turn\" variable and assign it \" X \" were need to do this because\n",
    "        # always tic tac toe game starts with X turn\n",
    "    \n",
    "    # create a vaiable \"count\" and use this variable to count the number of move\n",
    "    # of both players.\n",
    "    \n",
    "    \n",
    "    #create for loop with range function with arg.>> 10\n",
    "    #because we need to execute players turns for 9 times only\n",
    "    \n",
    "        # print board using function\n",
    "        \n",
    "        \n",
    "        # write message to get value from user \n",
    "        \n",
    "        #use Input() to get input.\n",
    "        \n",
    "        # use if-else statement find empty place on board(dictionary) \n",
    "        # and put input value (move) in it.\n",
    "        # and if at given place is not empty then user need to enter \n",
    "        # again the new place and position.\n",
    "        \n",
    "        \n",
    "        \n",
    "        \n",
    "        \n",
    "        # Now use if elif statement to check every posible win condition \n",
    "        # if player X or O has won, for every move after 5 moves. \n",
    "        \n",
    "        # create If statement to check if neither X nor O wins \n",
    "        # and the board is full, we'll declare the result as 'tie'.\n",
    "        \n",
    "        \n",
    "        # Now change value of \"turn\" variable (the player) after every move.\n",
    "        \n",
    "        \n",
    "    \n",
    "#calling the game() funtion to execute.\n",
    "\n"
   ]
  }
 ],
 "metadata": {
  "kernelspec": {
   "display_name": "Python 3",
   "language": "python",
   "name": "python3"
  },
  "language_info": {
   "codemirror_mode": {
    "name": "ipython",
    "version": 3
   },
   "file_extension": ".py",
   "mimetype": "text/x-python",
   "name": "python",
   "nbconvert_exporter": "python",
   "pygments_lexer": "ipython3",
   "version": "3.8.5"
  }
 },
 "nbformat": 4,
 "nbformat_minor": 4
}
