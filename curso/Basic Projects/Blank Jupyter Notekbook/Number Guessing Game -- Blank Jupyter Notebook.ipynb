{
 "cells": [
  {
   "cell_type": "markdown",
   "metadata": {},
   "source": [
    "# Number Guessing Game"
   ]
  },
  {
   "cell_type": "code",
   "execution_count": null,
   "metadata": {},
   "outputs": [],
   "source": [
    "# import random and time module\n",
    "\n",
    "# create a random number from range between 1-100\n",
    "\n",
    "# write a welcome message\n",
    "\n",
    "# give 2 sec. delay\n",
    "\n",
    "# take a user input to enter a number\n",
    "\n",
    "# use while loop and create a condition which execute while loop till the both number not become equal\n",
    "                                                          #if n is not equal to the input guess  \n",
    "\n",
    "    # if guess is smaller than n\n",
    "    \n",
    "    # if guess is greater than n\n",
    "    \n",
    "    # if guess gets equals to n terminate the while loop\n",
    "\n",
    "    \n",
    "# final message"
   ]
  },
  {
   "cell_type": "code",
   "execution_count": null,
   "metadata": {},
   "outputs": [],
   "source": []
  },
  {
   "cell_type": "code",
   "execution_count": 2,
   "metadata": {},
   "outputs": [],
   "source": [
    "# import random and time module\n",
    "\n",
    "\n",
    "# create a random number from range between 1-100\n",
    "\n",
    "# write a welcome message\n",
    "\n",
    "# give 2 sec. delay\n",
    "\n",
    "# take a user input to enter a number\n",
    "\n",
    "# use while loop and create a condition which execute while loop till the both number not become equal\n",
    "                                                          #if n is not equal to the input guess  \n",
    "\n",
    "    # if guess is smaller than n\n",
    "    \n",
    "    \n",
    "# if guess is greater than n\n",
    "    \n",
    "    \n",
    "    \n",
    "        # if guess gets equals to n terminate the while loop\n",
    "\n",
    "        \n",
    "# final message"
   ]
  },
  {
   "cell_type": "code",
   "execution_count": null,
   "metadata": {},
   "outputs": [],
   "source": []
  }
 ],
 "metadata": {
  "kernelspec": {
   "display_name": "Python 3",
   "language": "python",
   "name": "python3"
  },
  "language_info": {
   "codemirror_mode": {
    "name": "ipython",
    "version": 3
   },
   "file_extension": ".py",
   "mimetype": "text/x-python",
   "name": "python",
   "nbconvert_exporter": "python",
   "pygments_lexer": "ipython3",
   "version": "3.8.5"
  }
 },
 "nbformat": 4,
 "nbformat_minor": 4
}
