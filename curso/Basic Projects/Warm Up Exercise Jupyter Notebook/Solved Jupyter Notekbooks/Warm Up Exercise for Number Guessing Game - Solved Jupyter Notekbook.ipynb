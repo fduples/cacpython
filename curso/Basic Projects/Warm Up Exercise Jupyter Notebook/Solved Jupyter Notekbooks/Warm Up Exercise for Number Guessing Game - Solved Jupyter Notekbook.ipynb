{
 "cells": [
  {
   "cell_type": "code",
   "execution_count": 30,
   "metadata": {},
   "outputs": [
    {
     "name": "stdout",
     "output_type": "stream",
     "text": [
      "81\n"
     ]
    }
   ],
   "source": [
    "#import ramdom module \n",
    "import random\n",
    "# create a random number from range between 1-100\n",
    "n = random.randrange(1,100)\n",
    "print(n)"
   ]
  },
  {
   "cell_type": "code",
   "execution_count": 33,
   "metadata": {},
   "outputs": [
    {
     "name": "stdout",
     "output_type": "stream",
     "text": [
      "start\n",
      "stop\n"
     ]
    }
   ],
   "source": [
    "#import time module and put delay in Code execution \n",
    "import time\n",
    "print(\"start\")\n",
    "time.sleep(5) # give 2 sec. delay\n",
    "print(\"stop\")"
   ]
  },
  {
   "cell_type": "code",
   "execution_count": 34,
   "metadata": {},
   "outputs": [
    {
     "name": "stdout",
     "output_type": "stream",
     "text": [
      "Enter a number : 20\n",
      "20\n",
      "<class 'str'>\n"
     ]
    }
   ],
   "source": [
    "#Take input from user and print its types\n",
    "\n",
    "num1 = input(\"Enter a number : \")\n",
    "print(num1)\n",
    "print(type(num1))"
   ]
  },
  {
   "cell_type": "code",
   "execution_count": 35,
   "metadata": {},
   "outputs": [
    {
     "name": "stdout",
     "output_type": "stream",
     "text": [
      "Enter a number : 20\n",
      "20\n",
      "<class 'int'>\n"
     ]
    }
   ],
   "source": [
    "#Take integer input from user and print its types\n",
    "\n",
    "num1 = int(input(\"Enter a number : \"))\n",
    "print(num1)\n",
    "print(type(num1))"
   ]
  },
  {
   "cell_type": "code",
   "execution_count": 36,
   "metadata": {},
   "outputs": [
    {
     "name": "stdout",
     "output_type": "stream",
     "text": [
      "1\n",
      "inside while loop\n",
      "2\n",
      "inside while loop\n",
      "3\n",
      "inside while loop\n",
      "4\n",
      "inside while loop\n",
      "\n",
      "outside while loop\n"
     ]
    }
   ],
   "source": [
    "# create While loop and iterate it for 5 times\n",
    "count = 1\n",
    "while count<5:\n",
    "    print(count)\n",
    "    print(\"inside while loop\")\n",
    "    count+=1\n",
    "print(\"\\noutside while loop\")"
   ]
  },
  {
   "cell_type": "code",
   "execution_count": 38,
   "metadata": {},
   "outputs": [
    {
     "name": "stdout",
     "output_type": "stream",
     "text": [
      "else part will execute when if's condition return False \n"
     ]
    }
   ],
   "source": [
    "#Create an example of if else statement  \n",
    "\n",
    "i = 60\n",
    "if i<20:\n",
    "    print(\"if part will execute when if's condition return True \")\n",
    "else:\n",
    "    print(\"else part will execute when if's condition return False \")"
   ]
  },
  {
   "cell_type": "code",
   "execution_count": 41,
   "metadata": {},
   "outputs": [
    {
     "name": "stdout",
     "output_type": "stream",
     "text": [
      "else part will execute when both if's condition and elif's return False \n"
     ]
    }
   ],
   "source": [
    "#Create an example of if elif statement\n",
    "\n",
    "i = 60\n",
    "if i<20:\n",
    "    print(\"if part will execute when if's condition return True \")\n",
    "elif i==20:\n",
    "    print(\"elif part will execute when if's condition return False and elif condition return True \")\n",
    "else:\n",
    "    print(\"else part will execute when both if's condition and elif's return False \")"
   ]
  },
  {
   "cell_type": "code",
   "execution_count": null,
   "metadata": {},
   "outputs": [],
   "source": []
  }
 ],
 "metadata": {
  "kernelspec": {
   "display_name": "Python 3",
   "language": "python",
   "name": "python3"
  },
  "language_info": {
   "codemirror_mode": {
    "name": "ipython",
    "version": 3
   },
   "file_extension": ".py",
   "mimetype": "text/x-python",
   "name": "python",
   "nbconvert_exporter": "python",
   "pygments_lexer": "ipython3",
   "version": "3.8.5"
  }
 },
 "nbformat": 4,
 "nbformat_minor": 4
}
