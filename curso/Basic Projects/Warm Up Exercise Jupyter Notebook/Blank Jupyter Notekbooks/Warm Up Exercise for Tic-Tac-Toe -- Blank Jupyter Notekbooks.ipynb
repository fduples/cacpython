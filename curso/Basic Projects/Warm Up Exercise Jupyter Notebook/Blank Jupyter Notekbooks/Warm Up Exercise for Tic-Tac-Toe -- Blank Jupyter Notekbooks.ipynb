{
 "cells": [
  {
   "cell_type": "code",
   "execution_count": 4,
   "metadata": {},
   "outputs": [
    {
     "data": {
      "text/plain": [
       "'\\nExplain Python dictionary\\n\\n\\n'"
      ]
     },
     "execution_count": 4,
     "metadata": {},
     "output_type": "execute_result"
    }
   ],
   "source": [
    "\"\"\"\n",
    "Explain Python dictionary\n",
    "\n",
    "\n",
    "\"\"\""
   ]
  },
  {
   "cell_type": "code",
   "execution_count": 2,
   "metadata": {},
   "outputs": [
    {
     "name": "stdout",
     "output_type": "stream",
     "text": [
      "{'one': 1, 'two': 2, 'three': 3}\n"
     ]
    }
   ],
   "source": [
    "#create dictionary\n",
    "\n"
   ]
  },
  {
   "cell_type": "code",
   "execution_count": 3,
   "metadata": {},
   "outputs": [
    {
     "data": {
      "text/plain": [
       "' this dictionary has keys in form of String and all values corresponding to keys are whitespace '"
      ]
     },
     "execution_count": 3,
     "metadata": {},
     "output_type": "execute_result"
    }
   ],
   "source": [
    "# create dictionary name \"theBoard\" with string type keys (1,2,3,4,5,6,7,8,9) \n",
    "# and assign \" \" (whitespace) as keys value.\n",
    "\n",
    "\n",
    "\"\"\" this dictionary has keys in form of String and all values corresponding to keys are whitespace \"\"\""
   ]
  },
  {
   "cell_type": "code",
   "execution_count": 4,
   "metadata": {},
   "outputs": [
    {
     "name": "stdout",
     "output_type": "stream",
     "text": [
      "one\n",
      "two\n",
      "three\n"
     ]
    }
   ],
   "source": [
    "# Apply loop on dictionary\n",
    "\n"
   ]
  },
  {
   "cell_type": "code",
   "execution_count": 1,
   "metadata": {
    "scrolled": true
   },
   "outputs": [],
   "source": [
    "dict01 = {'7': 'G' , '8': 'H' , '9': 'I' ,\n",
    "          '4': 'D' , '5': 'E' , '6': 'F' ,\n",
    "          '1': 'A' , '2': 'B' , '3': 'C' }\n",
    "\n",
    "#Access the dictionary item's value of 5 and 1 \n",
    "\n"
   ]
  },
  {
   "cell_type": "code",
   "execution_count": 6,
   "metadata": {},
   "outputs": [
    {
     "name": "stdout",
     "output_type": "stream",
     "text": [
      "[]\n"
     ]
    }
   ],
   "source": [
    "#create empyt list\n",
    "\n"
   ]
  },
  {
   "cell_type": "code",
   "execution_count": 7,
   "metadata": {},
   "outputs": [
    {
     "name": "stdout",
     "output_type": "stream",
     "text": [
      "['7']\n",
      "['7', '8']\n",
      "['7', '8', '9']\n",
      "['7', '8', '9', '4']\n",
      "['7', '8', '9', '4', '5']\n",
      "['7', '8', '9', '4', '5', '6']\n",
      "['7', '8', '9', '4', '5', '6', '1']\n",
      "['7', '8', '9', '4', '5', '6', '1', '2']\n",
      "['7', '8', '9', '4', '5', '6', '1', '2', '3']\n"
     ]
    }
   ],
   "source": [
    "# Append dictionary key into empty list using for loop\n",
    "\n",
    "theBoard = {'7': ' ' , '8': ' ' , '9': ' ' ,\n",
    "            '4': ' ' , '5': ' ' , '6': ' ' ,\n",
    "            '1': ' ' , '2': ' ' , '3': ' ' }\n",
    "\n"
   ]
  },
  {
   "cell_type": "code",
   "execution_count": 8,
   "metadata": {},
   "outputs": [
    {
     "name": "stdout",
     "output_type": "stream",
     "text": [
      "100 200\n",
      "value of a : 100\n",
      "value of a : 100  value of b : 200\n"
     ]
    }
   ],
   "source": [
    "# learn how to print multiple message or strings or variables and message both together. \n",
    "a= 100\n",
    "b= 200\n",
    "#print value of a and b\n",
    "print(a,b)\n",
    "\n",
    "#print a message \"value of a :\" with value of variable \"a\"\n",
    "print(\"value of a :\",a)\n",
    "\n",
    "#print a message \"value of a :\" with value of variable \"a\" \n",
    "# with another message \"value of b :\" with value of variable \"b\"\n",
    "print(\"value of a :\",a,\" value of b :\",b)"
   ]
  },
  {
   "cell_type": "code",
   "execution_count": 9,
   "metadata": {},
   "outputs": [
    {
     "name": "stdout",
     "output_type": "stream",
     "text": [
      " | | \n",
      "-+-+-\n",
      " | | \n",
      "-+-+-\n",
      " | | \n"
     ]
    }
   ],
   "source": [
    "\"\"\" create Tic Tac Toe board or 'grid of 3x3'. \"\"\"\n",
    "\n",
    "\n",
    "# we are using string concatenation concept  "
   ]
  },
  {
   "cell_type": "code",
   "execution_count": 49,
   "metadata": {},
   "outputs": [
    {
     "name": "stdout",
     "output_type": "stream",
     "text": [
      " | | \n",
      "-+-+-\n",
      " | | \n",
      "-+-+-\n",
      " | | \n"
     ]
    }
   ],
   "source": [
    "\"\"\" create one more time -- Tic Tac Toe board or 'grid of 3x3'. \"\"\""
   ]
  },
  {
   "cell_type": "code",
   "execution_count": 11,
   "metadata": {},
   "outputs": [
    {
     "name": "stdout",
     "output_type": "stream",
     "text": [
      " | | \n",
      "-+-+-\n",
      " | | \n",
      "-+-+-\n",
      " | | \n"
     ]
    }
   ],
   "source": [
    "\"\"\" use time module and put 2 sec delay to understand  \"\"\"\n",
    "\n"
   ]
  },
  {
   "cell_type": "code",
   "execution_count": 36,
   "metadata": {
    "scrolled": true
   },
   "outputs": [
    {
     "name": "stdout",
     "output_type": "stream",
     "text": [
      "X| |O\n",
      "-+-+-\n",
      "X| |O\n",
      "-+-+-\n",
      "X| |O\n"
     ]
    }
   ],
   "source": [
    "# code to print board useing dict item's value    \n",
    "\n",
    "dict01 = {'7': 'X' , '8': ' ' , '9': 'O' ,\n",
    "          '4': 'X' , '5': ' ' , '6': 'O' ,\n",
    "          '1': 'X' , '2': ' ' , '3': 'O' }\n"
   ]
  },
  {
   "cell_type": "code",
   "execution_count": 32,
   "metadata": {},
   "outputs": [
    {
     "name": "stdout",
     "output_type": "stream",
     "text": [
      "X| | \n",
      "-+-+-\n",
      " | |O\n",
      "-+-+-\n",
      "X| |O\n"
     ]
    }
   ],
   "source": [
    "# code to print board useing dict item's value     \n",
    "\n",
    "dict01 = {'7': 'X' , '8': ' ' , '9': ' ' ,\n",
    "          '4': ' ' , '5': ' ' , '6': 'O' ,\n",
    "          '1': 'X' , '2': ' ' , '3': 'O' }\n",
    "\n"
   ]
  },
  {
   "cell_type": "code",
   "execution_count": 37,
   "metadata": {},
   "outputs": [
    {
     "name": "stdout",
     "output_type": "stream",
     "text": [
      "X| |O\n",
      "-+-+-\n",
      "X| |O\n",
      "-+-+-\n",
      "X| |O\n",
      "It's your turn,X.Move to which place?\n",
      "8\n"
     ]
    }
   ],
   "source": [
    "# Code to check for empty place in Tic-Tac-Toe 3x3 Grid and insert value. \n",
    "\n"
   ]
  },
  {
   "cell_type": "code",
   "execution_count": 38,
   "metadata": {},
   "outputs": [
    {
     "name": "stdout",
     "output_type": "stream",
     "text": [
      "X|X|O\n",
      "-+-+-\n",
      "X| |O\n",
      "-+-+-\n",
      "X| |O\n"
     ]
    }
   ],
   "source": [
    "# print Tic-Tac-Toe board again\n",
    "\n",
    "print(dict01['7']+ '|' + dict01['8'] + '|' +dict01['9'])\n",
    "print('-+-+-')\n",
    "print(dict01['4']+ '|' + dict01['5'] + '|' +dict01['6'])\n",
    "print('-+-+-')\n",
    "print(dict01['1']+ '|' + dict01['2'] + '|' +dict01['3'])\n"
   ]
  },
  {
   "cell_type": "code",
   "execution_count": 40,
   "metadata": {},
   "outputs": [
    {
     "name": "stdout",
     "output_type": "stream",
     "text": [
      "X| | \n",
      "-+-+-\n",
      " | |O\n",
      "-+-+-\n",
      "X| |O\n",
      "It's your turn,X.Move to which place?\n",
      "9\n",
      "X| |X\n",
      "-+-+-\n",
      " | |O\n",
      "-+-+-\n",
      "X| |O\n",
      "It's your turn,O.Move to which place?\n",
      "4\n",
      "X| |X\n",
      "-+-+-\n",
      "O| |O\n",
      "-+-+-\n",
      "X| |O\n",
      "It's your turn,X.Move to which place?\n",
      "2\n",
      "X| |X\n",
      "-+-+-\n",
      "O| |O\n",
      "-+-+-\n",
      "X|X|O\n",
      "It's your turn,O.Move to which place?\n",
      "5\n"
     ]
    }
   ],
   "source": [
    "# code to change the player after every move.\n",
    "\n",
    "dict01 = {'7': 'X' , '8': ' ' , '9': ' ' ,\n",
    "          '4': ' ' , '5': ' ' , '6': 'O' ,\n",
    "          '1': 'X' , '2': ' ' , '3': 'O' }\n",
    "\n",
    "turn = 'X'\n",
    "for i in range(4):\n",
    "        print(dict01['7']+ '|' + dict01['8'] + '|' +dict01['9'])\n",
    "        print('-+-+-')\n",
    "        print(dict01['4']+ '|' + dict01['5'] + '|' +dict01['6'])\n",
    "        print('-+-+-')\n",
    "        print(dict01['1']+ '|' + dict01['2'] + '|' +dict01['3'])\n",
    "\n",
    "\n",
    "        print(\"It's your turn,\" + turn + \".Move to which place?\")\n",
    "\n",
    "        move = input() # move = 9        \n",
    "\n",
    "        if dict01[move] == ' ':\n",
    "            dict01[move] = turn #o\n",
    "        else:\n",
    "            print(\"That place is already filled.\\nMove to which place?\")\n",
    "\n",
    "        \"\"\" write your code here  \"\"\""
   ]
  },
  {
   "cell_type": "code",
   "execution_count": 53,
   "metadata": {},
   "outputs": [
    {
     "name": "stdout",
     "output_type": "stream",
     "text": [
      "key 7, 4, 1 has same value\n"
     ]
    }
   ],
   "source": [
    "# understand the flow of code\n",
    "# check multiple conditions using if statement and \n",
    "# learn to compair multiple variable   \n",
    "\n",
    "dict01 = {'7': 'X' , '8': 'O' , '9': 'X' ,\n",
    "          '4': 'X' , '5': 'O' , '6': 'O' ,\n",
    "          '1': 'X' , '2': 'O' , '3': 'O' }\n",
    "\n",
    "\"\"\"\n",
    "       here in this dict01 you can see key 7,4,1 has same value \"X\"  \n",
    "       and key 6,3 has same value \"0\" \n",
    " \n",
    "\"\"\"\n",
    "\n",
    "\n",
    "\n",
    "\"\"\"\n",
    "# vertical line ---- key 7,4,1\n",
    "if dict01['7'] == dict01['4'] == dict01['1']: \n",
    "    print(\"key 7, 4, 1 has same value\")\n",
    "    \n",
    "if dict01['9'] == dict01['6'] == dict01['3']:\n",
    "    print(\"key 9, 6, 3 has same value\")\n",
    "else:\n",
    "    print(\"key 9, 6, 3 has different value\")\n",
    "\n",
    "\n",
    "\"\"\"\n",
    "# but if we compair key 8,5,2 using same condition then we also got  \n",
    "\n",
    "\"\"\"if dict01['8'] == dict01['5'] == dict01['2']: \n",
    "    print(\"key 8,5,2 has same value\")\n",
    "\n",
    "\"\"\"\n",
    "#This is right but these keys 8,5,2 are holding \"whitespace\" \n",
    "#(we are using this whitespaces for holding empty spaces)\n",
    "\n",
    "\"\"\"if dict01['8'] == dict01['5'] == dict01['2'] !=' ': \n",
    "    print(\"key 8,5,2 has same value\")\n",
    "else:\n",
    "    print(\"Key 8,5,2 has whitespace\")\n",
    "    \n",
    "\"\"\"\n",
    "\n",
    "\n",
    "\n",
    "# how to check tha position 9,6,3 have same value but all value are not whitespace\n",
    "\n",
    "if dict01['7'] == dict01['4'] == dict01['1'] != ' ': \n",
    "    print(\"key 7, 4, 1 has same value\")\n",
    "else:\n",
    "    print(\"key 7, 4, 1 's values are equal to the whitespace\")\n",
    "\n"
   ]
  },
  {
   "cell_type": "code",
   "execution_count": 56,
   "metadata": {},
   "outputs": [],
   "source": [
    "# create a function name game which print  \" Start the game \" when you call it.\n",
    "\n",
    "def game():\n",
    "    print(\"Start The Game\")\n"
   ]
  },
  {
   "cell_type": "code",
   "execution_count": 2,
   "metadata": {},
   "outputs": [],
   "source": [
    "#call above function that you had created.\n"
   ]
  },
  {
   "cell_type": "code",
   "execution_count": 3,
   "metadata": {},
   "outputs": [],
   "source": [
    "#call above function 10 times using for loop that you had created.\n"
   ]
  }
 ],
 "metadata": {
  "kernelspec": {
   "display_name": "Python 3",
   "language": "python",
   "name": "python3"
  },
  "language_info": {
   "codemirror_mode": {
    "name": "ipython",
    "version": 3
   },
   "file_extension": ".py",
   "mimetype": "text/x-python",
   "name": "python",
   "nbconvert_exporter": "python",
   "pygments_lexer": "ipython3",
   "version": "3.8.5"
  }
 },
 "nbformat": 4,
 "nbformat_minor": 4
}
